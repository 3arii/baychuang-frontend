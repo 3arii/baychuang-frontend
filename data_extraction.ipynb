{
 "cells": [
  {
   "cell_type": "code",
   "execution_count": 21,
   "metadata": {},
   "outputs": [],
   "source": [
    "import pandas as pd\n",
    "import numpy as np\n",
    "import praw\n",
    "from praw.models import MoreComments\n",
    "import os\n",
    "from groq import Groq"
   ]
  },
  {
   "cell_type": "code",
   "execution_count": 20,
   "metadata": {},
   "outputs": [
    {
     "name": "stdout",
     "output_type": "stream",
     "text": [
      "Collecting groq\n",
      "  Using cached groq-0.18.0-py3-none-any.whl.metadata (14 kB)\n",
      "Requirement already satisfied: anyio<5,>=3.5.0 in /Users/bowiechuang/opt/anaconda3/lib/python3.9/site-packages (from groq) (3.5.0)\n",
      "Requirement already satisfied: distro<2,>=1.7.0 in /Users/bowiechuang/opt/anaconda3/lib/python3.9/site-packages (from groq) (1.9.0)\n",
      "Requirement already satisfied: httpx<1,>=0.23.0 in /Users/bowiechuang/opt/anaconda3/lib/python3.9/site-packages (from groq) (0.27.2)\n",
      "Requirement already satisfied: pydantic<3,>=1.9.0 in /Users/bowiechuang/opt/anaconda3/lib/python3.9/site-packages (from groq) (2.9.1)\n",
      "Requirement already satisfied: sniffio in /Users/bowiechuang/opt/anaconda3/lib/python3.9/site-packages (from groq) (1.3.0)\n",
      "Requirement already satisfied: typing-extensions<5,>=4.10 in /Users/bowiechuang/opt/anaconda3/lib/python3.9/site-packages (from groq) (4.12.2)\n",
      "Requirement already satisfied: idna>=2.8 in /Users/bowiechuang/opt/anaconda3/lib/python3.9/site-packages (from anyio<5,>=3.5.0->groq) (3.3)\n",
      "Requirement already satisfied: certifi in /Users/bowiechuang/opt/anaconda3/lib/python3.9/site-packages (from httpx<1,>=0.23.0->groq) (2024.8.30)\n",
      "Requirement already satisfied: httpcore==1.* in /Users/bowiechuang/opt/anaconda3/lib/python3.9/site-packages (from httpx<1,>=0.23.0->groq) (1.0.5)\n",
      "Requirement already satisfied: h11<0.15,>=0.13 in /Users/bowiechuang/opt/anaconda3/lib/python3.9/site-packages (from httpcore==1.*->httpx<1,>=0.23.0->groq) (0.14.0)\n",
      "Requirement already satisfied: annotated-types>=0.6.0 in /Users/bowiechuang/opt/anaconda3/lib/python3.9/site-packages (from pydantic<3,>=1.9.0->groq) (0.7.0)\n",
      "Requirement already satisfied: pydantic-core==2.23.3 in /Users/bowiechuang/opt/anaconda3/lib/python3.9/site-packages (from pydantic<3,>=1.9.0->groq) (2.23.3)\n",
      "Using cached groq-0.18.0-py3-none-any.whl (121 kB)\n",
      "Installing collected packages: groq\n",
      "Successfully installed groq-0.18.0\n",
      "\n",
      "\u001b[1m[\u001b[0m\u001b[34;49mnotice\u001b[0m\u001b[1;39;49m]\u001b[0m\u001b[39;49m A new release of pip is available: \u001b[0m\u001b[31;49m24.3.1\u001b[0m\u001b[39;49m -> \u001b[0m\u001b[32;49m25.0.1\u001b[0m\n",
      "\u001b[1m[\u001b[0m\u001b[34;49mnotice\u001b[0m\u001b[1;39;49m]\u001b[0m\u001b[39;49m To update, run: \u001b[0m\u001b[32;49mpip install --upgrade pip\u001b[0m\n"
     ]
    }
   ],
   "source": [
    "!pip install groq"
   ]
  },
  {
   "cell_type": "code",
   "execution_count": 50,
   "metadata": {},
   "outputs": [
    {
     "ename": "AttributeError",
     "evalue": "'DataFrame' object has no attribute 'body'",
     "output_type": "error",
     "traceback": [
      "\u001b[0;31m---------------------------------------------------------------------------\u001b[0m",
      "\u001b[0;31mAttributeError\u001b[0m                            Traceback (most recent call last)",
      "\u001b[0;32m/var/folders/hk/1l4v0gdd41z7xrwc5_b0pcmm0000gn/T/ipykernel_64497/4214087780.py\u001b[0m in \u001b[0;36m<module>\u001b[0;34m\u001b[0m\n\u001b[1;32m     19\u001b[0m         ])\n\u001b[1;32m     20\u001b[0m \u001b[0mposts\u001b[0m \u001b[0;34m=\u001b[0m \u001b[0mpd\u001b[0m\u001b[0;34m.\u001b[0m\u001b[0mDataFrame\u001b[0m\u001b[0;34m(\u001b[0m\u001b[0mdata\u001b[0m\u001b[0;34m,\u001b[0m\u001b[0mcolumns\u001b[0m\u001b[0;34m=\u001b[0m\u001b[0;34m[\u001b[0m\u001b[0;34m\"Title\"\u001b[0m\u001b[0;34m,\u001b[0m \u001b[0;34m\"Text\"\u001b[0m\u001b[0;34m,\u001b[0m \u001b[0;34m\"Score\"\u001b[0m\u001b[0;34m,\u001b[0m \u001b[0;34m\"Comments\"\u001b[0m\u001b[0;34m,\u001b[0m \u001b[0;34m\"URL\"\u001b[0m\u001b[0;34m,\u001b[0m \u001b[0;34m\"Author\"\u001b[0m\u001b[0;34m,\u001b[0m \u001b[0;34m\"Created_UTC\"\u001b[0m\u001b[0;34m,\u001b[0m \u001b[0;34m\"Subreddit\"\u001b[0m\u001b[0;34m]\u001b[0m\u001b[0;34m)\u001b[0m\u001b[0;34m\u001b[0m\u001b[0;34m\u001b[0m\u001b[0m\n\u001b[0;32m---> 21\u001b[0;31m \u001b[0mindexNames\u001b[0m \u001b[0;34m=\u001b[0m \u001b[0mposts\u001b[0m\u001b[0;34m[\u001b[0m\u001b[0;34m(\u001b[0m\u001b[0mposts\u001b[0m\u001b[0;34m.\u001b[0m\u001b[0mbody\u001b[0m \u001b[0;34m==\u001b[0m \u001b[0;34m'[removed]'\u001b[0m\u001b[0;34m)\u001b[0m \u001b[0;34m|\u001b[0m \u001b[0;34m(\u001b[0m\u001b[0mposts\u001b[0m\u001b[0;34m.\u001b[0m\u001b[0mbody\u001b[0m \u001b[0;34m==\u001b[0m \u001b[0;34m'[deleted]'\u001b[0m\u001b[0;34m)\u001b[0m\u001b[0;34m]\u001b[0m\u001b[0;34m.\u001b[0m\u001b[0mindex\u001b[0m\u001b[0;34m\u001b[0m\u001b[0;34m\u001b[0m\u001b[0m\n\u001b[0m\u001b[1;32m     22\u001b[0m \u001b[0mposts\u001b[0m\u001b[0;34m.\u001b[0m\u001b[0mdrop\u001b[0m\u001b[0;34m(\u001b[0m\u001b[0mindexNames\u001b[0m\u001b[0;34m,\u001b[0m \u001b[0minplace\u001b[0m\u001b[0;34m=\u001b[0m\u001b[0;32mTrue\u001b[0m\u001b[0;34m)\u001b[0m\u001b[0;34m\u001b[0m\u001b[0;34m\u001b[0m\u001b[0m\n",
      "\u001b[0;32m~/opt/anaconda3/lib/python3.9/site-packages/pandas/core/generic.py\u001b[0m in \u001b[0;36m__getattr__\u001b[0;34m(self, name)\u001b[0m\n\u001b[1;32m   5573\u001b[0m         ):\n\u001b[1;32m   5574\u001b[0m             \u001b[0;32mreturn\u001b[0m \u001b[0mself\u001b[0m\u001b[0;34m[\u001b[0m\u001b[0mname\u001b[0m\u001b[0;34m]\u001b[0m\u001b[0;34m\u001b[0m\u001b[0;34m\u001b[0m\u001b[0m\n\u001b[0;32m-> 5575\u001b[0;31m         \u001b[0;32mreturn\u001b[0m \u001b[0mobject\u001b[0m\u001b[0;34m.\u001b[0m\u001b[0m__getattribute__\u001b[0m\u001b[0;34m(\u001b[0m\u001b[0mself\u001b[0m\u001b[0;34m,\u001b[0m \u001b[0mname\u001b[0m\u001b[0;34m)\u001b[0m\u001b[0;34m\u001b[0m\u001b[0;34m\u001b[0m\u001b[0m\n\u001b[0m\u001b[1;32m   5576\u001b[0m \u001b[0;34m\u001b[0m\u001b[0m\n\u001b[1;32m   5577\u001b[0m     \u001b[0;32mdef\u001b[0m \u001b[0m__setattr__\u001b[0m\u001b[0;34m(\u001b[0m\u001b[0mself\u001b[0m\u001b[0;34m,\u001b[0m \u001b[0mname\u001b[0m\u001b[0;34m:\u001b[0m \u001b[0mstr\u001b[0m\u001b[0;34m,\u001b[0m \u001b[0mvalue\u001b[0m\u001b[0;34m)\u001b[0m \u001b[0;34m->\u001b[0m \u001b[0;32mNone\u001b[0m\u001b[0;34m:\u001b[0m\u001b[0;34m\u001b[0m\u001b[0;34m\u001b[0m\u001b[0m\n",
      "\u001b[0;31mAttributeError\u001b[0m: 'DataFrame' object has no attribute 'body'"
     ]
    }
   ],
   "source": [
    "reddit = praw.Reddit(user_agent=\"Extract Reddit v1.0 by u/External_Middle8912\",\n",
    "                     client_id=\"KtFyZUw2ZS0gPLVwnWpITw\", \n",
    "                     client_secret=\"8xdnOL6gEBbwCgu389aJrj3c1hKj7w\")\n",
    "# url = \"https://www.reddit.com/r/depression/comments/1iswzg5/i_forget_depression_isnt_common/\"\n",
    "category = [\"depression\", \"anxiety\", 'mentalillness']\n",
    "data = []\n",
    "for item in category:\n",
    "    subreddit = reddit.subreddit(item)\n",
    "    for submission in subreddit.hot(limit=1000):\n",
    "        data.append([\n",
    "            submission.title,       # Post Title\n",
    "            submission.selftext,\n",
    "            submission.score,       # Upvote Score\n",
    "            submission.num_comments,# Number of Comments\n",
    "            submission.url,         # Post URL\n",
    "            submission.author,      # Author Name\n",
    "            submission.created_utc,  # Timestamp (Unix)\n",
    "            item\n",
    "        ])\n",
    "posts = pd.DataFrame(data,columns=[\"Title\", \"Text\", \"Score\", \"Comments\", \"URL\", \"Author\", \"Created_UTC\", \"Subreddit\"])       \n",
    "# indexNames = posts[(posts.body == '[removed]') | (posts.body == '[deleted]')].index\n",
    "# posts.drop(indexNames, inplace=True)"
   ]
  },
  {
   "cell_type": "code",
   "execution_count": 51,
   "metadata": {},
   "outputs": [],
   "source": [
    "posts['Text'] = posts['Text'].str.replace(r'\\\\r\\\\n|\\\\n|\\\\', \" \", regex = True)"
   ]
  },
  {
   "cell_type": "code",
   "execution_count": 52,
   "metadata": {},
   "outputs": [
    {
     "data": {
      "text/plain": [
       "'There has been almost a week that I have no desire to do anything than sleep.The only time I leave my bed is to go to the bathroom.I barely eat or drink any water.When I wake up I immediately want to go to sleep again.Most of the times I end up crying myself to sleep wishing to never wake up again.This is the worst time of my life I can\\'t express how much distress I feel, sometimes with no reason at all I am extremely anxious,I have lost interest at all my hobbies.I have skipped some very important college classes and it doesn\\'t seem to be getting better.\\n\\nI don\\'t think anyone cares about me in my life and I am starting to believe I will never be loved.I tried to reach out at one of my classmates which I hang out some times but it didn\\'t seem he cared that much because I got no reaction.And I don\\'t blame him why would he?We are not even that close.I am honestly incapable of human communication.\\n\\nMy family doesn\\'t care either because they haven\\'t questioned the fact that I haven\\'t eaten in days or that I always sleep.I obviously can\\'t afford therapy.So this seems like a dead end for me.I don\\'t think there is any hope for me to recover from this.If there is not anyone near me to pull me out from this I don\\'t think I can do something myself.\\n\\nSo if anyone has any advice please tell me because I can\\'t live like this anymore.I know doing small steps helps but I can\\'t even do that.The phrase \"even small victories count\" doesn\\'t give me any motivation at all.I have a weird feeling like this is the final chapter for my life,I can not imagine any future for me good or bad.I wish I had the guts to end my life but I can\\'t even do that.'"
      ]
     },
     "execution_count": 52,
     "metadata": {},
     "output_type": "execute_result"
    }
   ],
   "source": [
    "posts['Text'].iloc[5]"
   ]
  },
  {
   "cell_type": "code",
   "execution_count": 53,
   "metadata": {},
   "outputs": [
    {
     "data": {
      "text/html": [
       "<div>\n",
       "<style scoped>\n",
       "    .dataframe tbody tr th:only-of-type {\n",
       "        vertical-align: middle;\n",
       "    }\n",
       "\n",
       "    .dataframe tbody tr th {\n",
       "        vertical-align: top;\n",
       "    }\n",
       "\n",
       "    .dataframe thead th {\n",
       "        text-align: right;\n",
       "    }\n",
       "</style>\n",
       "<table border=\"1\" class=\"dataframe\">\n",
       "  <thead>\n",
       "    <tr style=\"text-align: right;\">\n",
       "      <th></th>\n",
       "      <th>Title</th>\n",
       "      <th>Text</th>\n",
       "      <th>Score</th>\n",
       "      <th>Comments</th>\n",
       "      <th>URL</th>\n",
       "      <th>Author</th>\n",
       "      <th>Created_UTC</th>\n",
       "      <th>Subreddit</th>\n",
       "    </tr>\n",
       "  </thead>\n",
       "  <tbody>\n",
       "    <tr>\n",
       "      <th>0</th>\n",
       "      <td>Our most-broken and least-understood rules is ...</td>\n",
       "      <td>We understand that most people who reply immed...</td>\n",
       "      <td>2366</td>\n",
       "      <td>177</td>\n",
       "      <td>https://www.reddit.com/r/depression/comments/d...</td>\n",
       "      <td>SQLwitch</td>\n",
       "      <td>1.572361e+09</td>\n",
       "      <td>depression</td>\n",
       "    </tr>\n",
       "    <tr>\n",
       "      <th>1</th>\n",
       "      <td>Regular check-in post, with information about ...</td>\n",
       "      <td>Welcome to /r/depression's check-in post - a p...</td>\n",
       "      <td>26</td>\n",
       "      <td>247</td>\n",
       "      <td>https://www.reddit.com/r/depression/comments/1...</td>\n",
       "      <td>SQLwitch</td>\n",
       "      <td>1.727565e+09</td>\n",
       "      <td>depression</td>\n",
       "    </tr>\n",
       "    <tr>\n",
       "      <th>2</th>\n",
       "      <td>i regret ever opening up to anyone</td>\n",
       "      <td>they make you feel even shittier about what yo...</td>\n",
       "      <td>53</td>\n",
       "      <td>20</td>\n",
       "      <td>https://www.reddit.com/r/depression/comments/1...</td>\n",
       "      <td>Acrobatic_Lie7392</td>\n",
       "      <td>1.740252e+09</td>\n",
       "      <td>depression</td>\n",
       "    </tr>\n",
       "    <tr>\n",
       "      <th>3</th>\n",
       "      <td>I'm going to commit suicide in a few days</td>\n",
       "      <td>I’m 19 years old and I just can't live like th...</td>\n",
       "      <td>41</td>\n",
       "      <td>37</td>\n",
       "      <td>https://www.reddit.com/r/depression/comments/1...</td>\n",
       "      <td>Ewexz</td>\n",
       "      <td>1.740245e+09</td>\n",
       "      <td>depression</td>\n",
       "    </tr>\n",
       "    <tr>\n",
       "      <th>4</th>\n",
       "      <td>I hate happy families, especially dad-daughter...</td>\n",
       "      <td>I feel so disappointed and sad whenever I see ...</td>\n",
       "      <td>36</td>\n",
       "      <td>6</td>\n",
       "      <td>https://www.reddit.com/r/depression/comments/1...</td>\n",
       "      <td>plushielvr</td>\n",
       "      <td>1.740246e+09</td>\n",
       "      <td>depression</td>\n",
       "    </tr>\n",
       "    <tr>\n",
       "      <th>...</th>\n",
       "      <td>...</td>\n",
       "      <td>...</td>\n",
       "      <td>...</td>\n",
       "      <td>...</td>\n",
       "      <td>...</td>\n",
       "      <td>...</td>\n",
       "      <td>...</td>\n",
       "      <td>...</td>\n",
       "    </tr>\n",
       "    <tr>\n",
       "      <th>2797</th>\n",
       "      <td>Obsession with deceased celebrity?</td>\n",
       "      <td>This is not a joke, please take it seriously.\\...</td>\n",
       "      <td>10</td>\n",
       "      <td>6</td>\n",
       "      <td>https://www.reddit.com/r/mentalillness/comment...</td>\n",
       "      <td>tikhung01</td>\n",
       "      <td>1.736532e+09</td>\n",
       "      <td>mentalillness</td>\n",
       "    </tr>\n",
       "    <tr>\n",
       "      <th>2798</th>\n",
       "      <td>Please help! Why am I all of a sudden angry at...</td>\n",
       "      <td>So yesterday I was haveing a good day then I R...</td>\n",
       "      <td>3</td>\n",
       "      <td>4</td>\n",
       "      <td>https://www.reddit.com/r/mentalillness/comment...</td>\n",
       "      <td>Bloody_skulls_</td>\n",
       "      <td>1.736555e+09</td>\n",
       "      <td>mentalillness</td>\n",
       "    </tr>\n",
       "    <tr>\n",
       "      <th>2799</th>\n",
       "      <td>I had to call crisis on my manic boyfriend and...</td>\n",
       "      <td>My boyfriend has had something mentally going ...</td>\n",
       "      <td>2</td>\n",
       "      <td>30</td>\n",
       "      <td>https://www.reddit.com/r/mentalillness/comment...</td>\n",
       "      <td>Few-Recover-4973</td>\n",
       "      <td>1.736563e+09</td>\n",
       "      <td>mentalillness</td>\n",
       "    </tr>\n",
       "    <tr>\n",
       "      <th>2800</th>\n",
       "      <td>Do you think it’s too late to tell my psychiat...</td>\n",
       "      <td>I’ve been seeing her for about a year &amp; a half...</td>\n",
       "      <td>3</td>\n",
       "      <td>2</td>\n",
       "      <td>https://www.reddit.com/r/mentalillness/comment...</td>\n",
       "      <td>Mental-Net1389</td>\n",
       "      <td>1.736554e+09</td>\n",
       "      <td>mentalillness</td>\n",
       "    </tr>\n",
       "    <tr>\n",
       "      <th>2801</th>\n",
       "      <td>I am sick and tired of people pretending to ha...</td>\n",
       "      <td>Yes, there. I said it. Majority of people have...</td>\n",
       "      <td>0</td>\n",
       "      <td>24</td>\n",
       "      <td>https://www.reddit.com/r/mentalillness/comment...</td>\n",
       "      <td>Traditional-Cake-950</td>\n",
       "      <td>1.736600e+09</td>\n",
       "      <td>mentalillness</td>\n",
       "    </tr>\n",
       "  </tbody>\n",
       "</table>\n",
       "<p>2802 rows × 8 columns</p>\n",
       "</div>"
      ],
      "text/plain": [
       "                                                  Title  \\\n",
       "0     Our most-broken and least-understood rules is ...   \n",
       "1     Regular check-in post, with information about ...   \n",
       "2                    i regret ever opening up to anyone   \n",
       "3             I'm going to commit suicide in a few days   \n",
       "4     I hate happy families, especially dad-daughter...   \n",
       "...                                                 ...   \n",
       "2797                 Obsession with deceased celebrity?   \n",
       "2798  Please help! Why am I all of a sudden angry at...   \n",
       "2799  I had to call crisis on my manic boyfriend and...   \n",
       "2800  Do you think it’s too late to tell my psychiat...   \n",
       "2801  I am sick and tired of people pretending to ha...   \n",
       "\n",
       "                                                   Text  Score  Comments  \\\n",
       "0     We understand that most people who reply immed...   2366       177   \n",
       "1     Welcome to /r/depression's check-in post - a p...     26       247   \n",
       "2     they make you feel even shittier about what yo...     53        20   \n",
       "3     I’m 19 years old and I just can't live like th...     41        37   \n",
       "4     I feel so disappointed and sad whenever I see ...     36         6   \n",
       "...                                                 ...    ...       ...   \n",
       "2797  This is not a joke, please take it seriously.\\...     10         6   \n",
       "2798  So yesterday I was haveing a good day then I R...      3         4   \n",
       "2799  My boyfriend has had something mentally going ...      2        30   \n",
       "2800  I’ve been seeing her for about a year & a half...      3         2   \n",
       "2801  Yes, there. I said it. Majority of people have...      0        24   \n",
       "\n",
       "                                                    URL                Author  \\\n",
       "0     https://www.reddit.com/r/depression/comments/d...              SQLwitch   \n",
       "1     https://www.reddit.com/r/depression/comments/1...              SQLwitch   \n",
       "2     https://www.reddit.com/r/depression/comments/1...     Acrobatic_Lie7392   \n",
       "3     https://www.reddit.com/r/depression/comments/1...                 Ewexz   \n",
       "4     https://www.reddit.com/r/depression/comments/1...            plushielvr   \n",
       "...                                                 ...                   ...   \n",
       "2797  https://www.reddit.com/r/mentalillness/comment...             tikhung01   \n",
       "2798  https://www.reddit.com/r/mentalillness/comment...        Bloody_skulls_   \n",
       "2799  https://www.reddit.com/r/mentalillness/comment...      Few-Recover-4973   \n",
       "2800  https://www.reddit.com/r/mentalillness/comment...        Mental-Net1389   \n",
       "2801  https://www.reddit.com/r/mentalillness/comment...  Traditional-Cake-950   \n",
       "\n",
       "       Created_UTC      Subreddit  \n",
       "0     1.572361e+09     depression  \n",
       "1     1.727565e+09     depression  \n",
       "2     1.740252e+09     depression  \n",
       "3     1.740245e+09     depression  \n",
       "4     1.740246e+09     depression  \n",
       "...            ...            ...  \n",
       "2797  1.736532e+09  mentalillness  \n",
       "2798  1.736555e+09  mentalillness  \n",
       "2799  1.736563e+09  mentalillness  \n",
       "2800  1.736554e+09  mentalillness  \n",
       "2801  1.736600e+09  mentalillness  \n",
       "\n",
       "[2802 rows x 8 columns]"
      ]
     },
     "execution_count": 53,
     "metadata": {},
     "output_type": "execute_result"
    }
   ],
   "source": [
    "posts"
   ]
  },
  {
   "cell_type": "code",
   "execution_count": 75,
   "metadata": {},
   "outputs": [],
   "source": [
    "groq_API = \"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\"\n",
    "client = Groq(api_key=groq_API)\n",
    "\n",
    "def categorize_reddit_content(content):\n",
    "      messages = [\n",
    "          {\n",
    "              \"role\": \"system\",\n",
    "              \"content\": 'null'\n",
    "          },\n",
    "          {\n",
    "              \"role\": \"user\",\n",
    "              \"content\": f\"Please categorize our reddit post content into one of the three categories: 'Depression', 'Anxiety', 'Mental Illness': \\n\\n {content}. The output should only be a word with no extra texts.\"\n",
    "          }\n",
    "      ]\n",
    "\n",
    "      # prompt = \"Please categorize our reddit post content into one of the three categories: 'Depression', 'Anxiety', 'Mental Illness'.\"\n",
    "\n",
    "      chat_completion = client.chat.completions.create(\n",
    "              temperature = 0.15, \n",
    "              messages = messages, \n",
    "              model = \"llama-3.3-70b-versatile\", \n",
    "              n = 1, \n",
    "      )\n",
    "      category = chat_completion.choices[0].message.content\n",
    "      return category\n",
    "\n",
    "# print(chat_completion.choices[0].message.content)"
   ]
  },
  {
   "cell_type": "code",
   "execution_count": 63,
   "metadata": {},
   "outputs": [
    {
     "data": {
      "text/plain": [
       "pandas.core.series.Series"
      ]
     },
     "execution_count": 63,
     "metadata": {},
     "output_type": "execute_result"
    }
   ],
   "source": [
    "type(sub_df['Text'])"
   ]
  },
  {
   "cell_type": "code",
   "execution_count": 76,
   "metadata": {},
   "outputs": [
    {
     "name": "stderr",
     "output_type": "stream",
     "text": [
      "/var/folders/hk/1l4v0gdd41z7xrwc5_b0pcmm0000gn/T/ipykernel_64497/2596895960.py:2: SettingWithCopyWarning: \n",
      "A value is trying to be set on a copy of a slice from a DataFrame.\n",
      "Try using .loc[row_indexer,col_indexer] = value instead\n",
      "\n",
      "See the caveats in the documentation: https://pandas.pydata.org/pandas-docs/stable/user_guide/indexing.html#returning-a-view-versus-a-copy\n",
      "  sub_df[\"New_Text\"] = sub_df[\"Text\"].apply(categorize_reddit_content)\n"
     ]
    }
   ],
   "source": [
    "sub_df = posts[:5]\n",
    "sub_df[\"New_Text\"] = sub_df[\"Text\"].apply(categorize_reddit_content)\n"
   ]
  },
  {
   "cell_type": "code",
   "execution_count": 77,
   "metadata": {},
   "outputs": [
    {
     "data": {
      "text/plain": [
       "0    Depression\n",
       "1    Depression\n",
       "2    Depression\n",
       "3    Depression\n",
       "4    Depression\n",
       "Name: New_Text, dtype: object"
      ]
     },
     "execution_count": 77,
     "metadata": {},
     "output_type": "execute_result"
    }
   ],
   "source": [
    "sub_df['New_Text']"
   ]
  },
  {
   "cell_type": "code",
   "execution_count": 78,
   "metadata": {},
   "outputs": [],
   "source": [
    "posts.to_csv(\"/Users/bowiechuang/Documents/GitHub/baychuang/reddit_post.csv\")"
   ]
  }
 ],
 "metadata": {
  "kernelspec": {
   "display_name": "Python 3",
   "language": "python",
   "name": "python3"
  },
  "language_info": {
   "codemirror_mode": {
    "name": "ipython",
    "version": 3
   },
   "file_extension": ".py",
   "mimetype": "text/x-python",
   "name": "python",
   "nbconvert_exporter": "python",
   "pygments_lexer": "ipython3",
   "version": "3.9.13"
  }
 },
 "nbformat": 4,
 "nbformat_minor": 2
}
